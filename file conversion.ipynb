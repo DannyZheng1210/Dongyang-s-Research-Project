{
 "cells": [
  {
   "cell_type": "markdown",
   "id": "6e843a99",
   "metadata": {},
   "source": [
    "pdb document to cif document"
   ]
  },
  {
   "cell_type": "code",
   "execution_count": null,
   "id": "9ce86dbc",
   "metadata": {},
   "outputs": [],
   "source": [
    "import os\n",
    "from Bio.PDB import PDBParser\n",
    "\n",
    "# ===== Input multi-frame PDB file =====\n",
    "input_pdb = \"frames1.pdb\"\n",
    "\n",
    "# ===== Output directory =====\n",
    "base_dir = os.path.dirname(os.path.abspath(input_pdb))\n",
    "output_dir = os.path.join(\n",
    "    base_dir,\n",
    "    os.path.splitext(os.path.basename(input_pdb))[0] + \"_xyzs\"\n",
    ")\n",
    "os.makedirs(output_dir, exist_ok=True)\n",
    "\n",
    "# ===== Parse multi-frame PDB =====\n",
    "parser = PDBParser(QUIET=True)\n",
    "structure = parser.get_structure(\"traj\", input_pdb)\n",
    "\n",
    "# ===== Iterate over each model (frame) =====\n",
    "for i, model in enumerate(structure, start=1):\n",
    "    atoms = list(model.get_atoms())\n",
    "    natoms = len(atoms)\n",
    "\n",
    "    output_xyz = os.path.join(output_dir, f\"frame_{i:04d}.xyz\")\n",
    "    with open(output_xyz, \"w\") as f:\n",
    "        # First line: number of atoms\n",
    "        f.write(f\"{natoms}\\n\")\n",
    "        # Second line: comment\n",
    "        f.write(f\"Frame {i}\\n\")\n",
    "        # Atom coordinates\n",
    "        for atom in atoms:\n",
    "            element = atom.element if atom.element != \"\" else atom.get_id()[0]\n",
    "            x, y, z = atom.coord\n",
    "            f.write(f\"{element:2s} {x:10.5f} {y:10.5f} {z:10.5f}\\n\")\n",
    "\n",
    "    print(f\"Wrote {output_xyz}\")\n",
    "\n",
    "print(f\"All done! XYZ files saved in {output_dir}\")\n"
   ]
  },
  {
   "cell_type": "markdown",
   "id": "af290c64",
   "metadata": {},
   "source": [
    "convert .pdb to .cif"
   ]
  },
  {
   "cell_type": "code",
   "execution_count": null,
   "id": "55a996ab",
   "metadata": {},
   "outputs": [],
   "source": [
    "# -*- coding: utf-8 -*-\n",
    "import os\n",
    "from ase.io import read, write\n",
    "\n",
    "# Input and output folder (current directory)\n",
    "input_folder = os.getcwd()\n",
    "output_folder = os.getcwd()\n",
    "os.makedirs(output_folder, exist_ok=True)\n",
    "\n",
    "# Collect all PDB files in the input folder\n",
    "pdb_files = [f for f in os.listdir(input_folder) if f.endswith(\".pdb\")]\n",
    "\n",
    "for idx, pdb_file in enumerate(pdb_files, 1):\n",
    "    input_path = os.path.join(input_folder, pdb_file)\n",
    "    base_name = os.path.splitext(pdb_file)[0]\n",
    "\n",
    "    # Read all frames from the PDB file\n",
    "    frames = read(input_path, index=\":\")\n",
    "\n",
    "    # Write each frame as an XYZ file\n",
    "    for frame_idx, frame in enumerate(frames, 1):\n",
    "        output_path = os.path.join(output_folder, f\"{base_name}_frame{frame_idx:04d}.xyz\")\n",
    "        write(output_path, frame, format=\"xyz\")\n",
    "\n",
    "    print(f\"[{idx}/{len(pdb_files)}] {pdb_file} divided into {len(frames)} .XYZ files\")\n",
    "\n",
    "print(\"\\nResults saved in:\", output_folder)\n"
   ]
  },
  {
   "cell_type": "markdown",
   "id": "ed6f1c2c",
   "metadata": {},
   "source": [
    "convert xyz to cif"
   ]
  },
  {
   "cell_type": "code",
   "execution_count": null,
   "id": "0e6972e5",
   "metadata": {},
   "outputs": [],
   "source": [
    "import os\n",
    "from ase.io import read, write\n",
    "\n",
    "# Input path\n",
    "input_path = \"frame_0001.xyz\"\n",
    "\n",
    "# Output path (same folder, change extension to .cif)\n",
    "base, _ = os.path.splitext(input_path)\n",
    "output_path = base + \".cif\"\n",
    "\n",
    "# Read xyz\n",
    "atoms = read(input_path)\n",
    "\n",
    "# Set box size 30 Å × 30 Å × 30 Å\n",
    "atoms.set_cell([30, 30, 30])\n",
    "atoms.set_pbc(True)   # enable periodic boundary conditions\n",
    "\n",
    "# Write cif\n",
    "write(output_path, atoms)\n",
    "\n",
    "print(f\"Converted and boxed: {input_path} → {output_path}\")\n"
   ]
  },
  {
   "cell_type": "markdown",
   "id": "720ec527",
   "metadata": {},
   "source": [
    ".cif to .cell"
   ]
  },
  {
   "cell_type": "code",
   "execution_count": null,
   "id": "831a26c9",
   "metadata": {},
   "outputs": [],
   "source": [
    "from ase.io import read, write\n",
    "import os\n",
    "\n",
    "# Input folder containing .cif files\n",
    "input_folder = os.getcwd()\n",
    "\n",
    "# Output folder for .cell files\n",
    "output_folder = os.path.join(input_folder, \"cell_files\")\n",
    "os.makedirs(output_folder, exist_ok=True)\n",
    "\n",
    "# Loop over all files in the input folder\n",
    "for filename in os.listdir(input_folder):\n",
    "    if filename.lower().endswith(\".cif\"):\n",
    "        # Input file path\n",
    "        filepath = os.path.join(input_folder, filename)\n",
    "        \n",
    "        # File name without extension\n",
    "        documentname = os.path.splitext(filename)[0]\n",
    "        \n",
    "        # Output file path (saved in output_folder)\n",
    "        output_path = os.path.join(output_folder, f\"{documentname}.cell\")\n",
    "        \n",
    "        try:\n",
    "            # Read CIF file\n",
    "            atoms = read(filepath)\n",
    "            \n",
    "            # Write CASTEP .cell file\n",
    "            write(output_path, atoms, format=\"castep-cell\")\n",
    "            \n",
    "            print(f\"Converted: {filepath} → {output_path}\")\n",
    "        except Exception as e:\n",
    "            print(f\"Failed: {filepath}, error: {e}\")\n",
    "\n",
    "print(f\"\\nAll .cell files saved in: {output_folder}\")\n"
   ]
  }
 ],
 "metadata": {
  "language_info": {
   "name": "python"
  }
 },
 "nbformat": 4,
 "nbformat_minor": 5
}
